{
 "cells": [
  {
   "cell_type": "code",
   "execution_count": 1,
   "id": "color-theory",
   "metadata": {},
   "outputs": [],
   "source": [
    "import pandas as pd\n",
    "import numpy as np\n",
    "\n",
    "import cv2\n",
    "import glob\n",
    "import numpy\n",
    "import random\n",
    "import os\n",
    "import shutil\n",
    "import matplotlib.pyplot as plt\n",
    "from tqdm import tqdm"
   ]
  },
  {
   "cell_type": "code",
   "execution_count": 2,
   "id": "supposed-module",
   "metadata": {},
   "outputs": [],
   "source": [
    "traindata = pd.read_csv('train.csv')"
   ]
  },
  {
   "cell_type": "code",
   "execution_count": 14,
   "id": "general-setup",
   "metadata": {},
   "outputs": [],
   "source": [
    "nddata = np.array(traindata.iloc[:, 1:])"
   ]
  },
  {
   "cell_type": "code",
   "execution_count": 15,
   "id": "instant-mainstream",
   "metadata": {},
   "outputs": [],
   "source": [
    "nddata_minmax = (nddata - nddata.min()) / (nddata.max() - nddata.min())"
   ]
  },
  {
   "cell_type": "code",
   "execution_count": 16,
   "id": "mineral-paragraph",
   "metadata": {},
   "outputs": [
    {
     "data": {
      "text/plain": [
       "array(['out', 'in', 'normal', 'other', 'noise'], dtype=object)"
      ]
     },
     "execution_count": 16,
     "metadata": {},
     "output_type": "execute_result"
    }
   ],
   "source": [
    "traindata.leaktype.unique()"
   ]
  },
  {
   "cell_type": "code",
   "execution_count": 17,
   "id": "developed-humanitarian",
   "metadata": {},
   "outputs": [],
   "source": [
    "os.makedirs('out', exist_ok=True)\n",
    "os.makedirs('noise', exist_ok=True)\n",
    "os.makedirs('other', exist_ok=True)\n",
    "os.makedirs('in', exist_ok=True)\n",
    "os.makedirs('normal', exist_ok=True)"
   ]
  },
  {
   "cell_type": "code",
   "execution_count": null,
   "id": "dedicated-rendering",
   "metadata": {},
   "outputs": [
    {
     "name": "stderr",
     "output_type": "stream",
     "text": [
      "  5%|▌         | 1771/33600 [00:15<05:11, 102.26it/s]"
     ]
    }
   ],
   "source": [
    "for idx in tqdm(range(len(nddata_minmax))):\n",
    "    sampledata = (np.reshape(nddata_minmax[idx], (27, 19)) * 255).astype(np.uint8)\n",
    "    sampledata_270190 = cv2.resize(sampledata, (270, 190))\n",
    "    \n",
    "    plt.imsave(os.path.join(traindata.loc[idx, 'leaktype'], f\"{idx}.png\"), sampledata)\n",
    "    plt.imsave(os.path.join(traindata.loc[idx, 'leaktype'], f\"{idx}x10.png\"), sampledata_270190)"
   ]
  },
  {
   "cell_type": "code",
   "execution_count": null,
   "id": "infinite-elimination",
   "metadata": {},
   "outputs": [],
   "source": []
  }
 ],
 "metadata": {
  "kernelspec": {
   "display_name": "torch",
   "language": "python",
   "name": "torch"
  },
  "language_info": {
   "codemirror_mode": {
    "name": "ipython",
    "version": 3
   },
   "file_extension": ".py",
   "mimetype": "text/x-python",
   "name": "python",
   "nbconvert_exporter": "python",
   "pygments_lexer": "ipython3",
   "version": "3.6.12"
  }
 },
 "nbformat": 4,
 "nbformat_minor": 5
}
